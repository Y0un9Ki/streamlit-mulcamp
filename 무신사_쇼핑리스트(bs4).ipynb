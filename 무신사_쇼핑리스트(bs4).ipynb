{
 "cells": [
  {
   "cell_type": "code",
   "execution_count": 8,
   "id": "05548c99-89f8-4271-ac46-bfa565b56b3f",
   "metadata": {},
   "outputs": [],
   "source": [
    "import time\n",
    "from selenium import webdriver\n",
    "from selenium.webdriver.chrome.service import Service\n",
    "from selenium.webdriver.common.by import By\n",
    "from webdriver_manager.chrome import ChromeDriverManager\n",
    "\n",
    "CHROME_DRIVER_PATH = './drivers/chromedriver.exe'\n",
    "service = Service(executable_path=CHROME_DRIVER_PATH)\n",
    "options = webdriver.ChromeOptions()\n",
    "driver = webdriver.Chrome(service= Service(ChromeDriverManager().install()))\n",
    "URL = 'https://www.musinsa.com/ranking/best?u_cat_cd=003'\n",
    "driver.get(URL)"
   ]
  },
  {
   "cell_type": "code",
   "execution_count": 40,
   "id": "365e8dcc-df0c-4b99-923b-78f973908320",
   "metadata": {},
   "outputs": [
    {
     "ename": "InvalidSelectorException",
     "evalue": "Message: invalid selector: An invalid or illegal selector was specified\n  (Session info: chrome=120.0.6099.129); For documentation on this error, please visit: https://www.selenium.dev/documentation/webdriver/troubleshooting/errors#invalid-selector-exception\nStacktrace:\n0   chromedriver                        0x00000001027fc4dc chromedriver + 4162780\n1   chromedriver                        0x00000001027f4664 chromedriver + 4130404\n2   chromedriver                        0x000000010244bbc0 chromedriver + 293824\n3   chromedriver                        0x0000000102451234 chromedriver + 315956\n4   chromedriver                        0x000000010245313c chromedriver + 323900\n5   chromedriver                        0x0000000102453278 chromedriver + 324216\n6   chromedriver                        0x0000000102492198 chromedriver + 582040\n7   chromedriver                        0x00000001024d1ab0 chromedriver + 842416\n8   chromedriver                        0x00000001024856bc chromedriver + 530108\n9   chromedriver                        0x0000000102486930 chromedriver + 534832\n10  chromedriver                        0x00000001027c1e08 chromedriver + 3923464\n11  chromedriver                        0x00000001027c63dc chromedriver + 3941340\n12  chromedriver                        0x00000001027aa038 chromedriver + 3825720\n13  chromedriver                        0x00000001027c6f3c chromedriver + 3944252\n14  chromedriver                        0x000000010279c6f4 chromedriver + 3770100\n15  chromedriver                        0x00000001027e3980 chromedriver + 4061568\n16  chromedriver                        0x00000001027e3af8 chromedriver + 4061944\n17  chromedriver                        0x00000001027f42e4 chromedriver + 4129508\n18  libsystem_pthread.dylib             0x0000000187cc6034 _pthread_start + 136\n19  libsystem_pthread.dylib             0x0000000187cc0e3c thread_start + 8\n",
     "output_type": "error",
     "traceback": [
      "\u001b[0;31m---------------------------------------------------------------------------\u001b[0m",
      "\u001b[0;31mInvalidSelectorException\u001b[0m                  Traceback (most recent call last)",
      "Cell \u001b[0;32mIn[40], line 6\u001b[0m\n\u001b[1;32m      1\u001b[0m CSS_PATH \u001b[38;5;241m=\u001b[39m \u001b[38;5;124m'\u001b[39m\u001b[38;5;124m##goodsRankList > li:nth-child(1) > div.li_inner > div.article_info > a\u001b[39m\u001b[38;5;124m'\u001b[39m\n\u001b[1;32m      2\u001b[0m \u001b[38;5;66;03m#goodsRankList > li:nth-child(1) > div.li_inner > div.article_info > p.list_info > a\u001b[39;00m\n\u001b[1;32m      3\u001b[0m \u001b[38;5;66;03m#goodsRankList > li:nth-child(1) > div.li_inner > div.article_info > p.list_info > a\u001b[39;00m\n\u001b[1;32m      4\u001b[0m \u001b[38;5;66;03m#goodsRankList > li:nth-child(1) > div.li_inner > div.article_info > a\u001b[39;00m\n\u001b[0;32m----> 6\u001b[0m shop_results \u001b[38;5;241m=\u001b[39m \u001b[43mdriver\u001b[49m\u001b[38;5;241;43m.\u001b[39;49m\u001b[43mfind_elements\u001b[49m\u001b[43m(\u001b[49m\u001b[43mBy\u001b[49m\u001b[38;5;241;43m.\u001b[39;49m\u001b[43mCSS_SELECTOR\u001b[49m\u001b[43m,\u001b[49m\u001b[43m \u001b[49m\u001b[43mCSS_PATH\u001b[49m\u001b[43m)\u001b[49m\n\u001b[1;32m      7\u001b[0m shop_list\u001b[38;5;241m=\u001b[39m[]\n\u001b[1;32m      8\u001b[0m \u001b[38;5;28mprint\u001b[39m(shop_results)\n",
      "File \u001b[0;32m~/Desktop/streamlit-mulcamp/venv/lib/python3.11/site-packages/selenium/webdriver/remote/webdriver.py:771\u001b[0m, in \u001b[0;36mWebDriver.find_elements\u001b[0;34m(self, by, value)\u001b[0m\n\u001b[1;32m    767\u001b[0m     value \u001b[38;5;241m=\u001b[39m \u001b[38;5;124mf\u001b[39m\u001b[38;5;124m'\u001b[39m\u001b[38;5;124m[name=\u001b[39m\u001b[38;5;124m\"\u001b[39m\u001b[38;5;132;01m{\u001b[39;00mvalue\u001b[38;5;132;01m}\u001b[39;00m\u001b[38;5;124m\"\u001b[39m\u001b[38;5;124m]\u001b[39m\u001b[38;5;124m'\u001b[39m\n\u001b[1;32m    769\u001b[0m \u001b[38;5;66;03m# Return empty list if driver returns null\u001b[39;00m\n\u001b[1;32m    770\u001b[0m \u001b[38;5;66;03m# See https://github.com/SeleniumHQ/selenium/issues/4555\u001b[39;00m\n\u001b[0;32m--> 771\u001b[0m \u001b[38;5;28;01mreturn\u001b[39;00m \u001b[38;5;28;43mself\u001b[39;49m\u001b[38;5;241;43m.\u001b[39;49m\u001b[43mexecute\u001b[49m\u001b[43m(\u001b[49m\u001b[43mCommand\u001b[49m\u001b[38;5;241;43m.\u001b[39;49m\u001b[43mFIND_ELEMENTS\u001b[49m\u001b[43m,\u001b[49m\u001b[43m \u001b[49m\u001b[43m{\u001b[49m\u001b[38;5;124;43m\"\u001b[39;49m\u001b[38;5;124;43musing\u001b[39;49m\u001b[38;5;124;43m\"\u001b[39;49m\u001b[43m:\u001b[49m\u001b[43m \u001b[49m\u001b[43mby\u001b[49m\u001b[43m,\u001b[49m\u001b[43m \u001b[49m\u001b[38;5;124;43m\"\u001b[39;49m\u001b[38;5;124;43mvalue\u001b[39;49m\u001b[38;5;124;43m\"\u001b[39;49m\u001b[43m:\u001b[49m\u001b[43m \u001b[49m\u001b[43mvalue\u001b[49m\u001b[43m}\u001b[49m\u001b[43m)\u001b[49m[\u001b[38;5;124m\"\u001b[39m\u001b[38;5;124mvalue\u001b[39m\u001b[38;5;124m\"\u001b[39m] \u001b[38;5;129;01mor\u001b[39;00m []\n",
      "File \u001b[0;32m~/Desktop/streamlit-mulcamp/venv/lib/python3.11/site-packages/selenium/webdriver/remote/webdriver.py:347\u001b[0m, in \u001b[0;36mWebDriver.execute\u001b[0;34m(self, driver_command, params)\u001b[0m\n\u001b[1;32m    345\u001b[0m response \u001b[38;5;241m=\u001b[39m \u001b[38;5;28mself\u001b[39m\u001b[38;5;241m.\u001b[39mcommand_executor\u001b[38;5;241m.\u001b[39mexecute(driver_command, params)\n\u001b[1;32m    346\u001b[0m \u001b[38;5;28;01mif\u001b[39;00m response:\n\u001b[0;32m--> 347\u001b[0m     \u001b[38;5;28;43mself\u001b[39;49m\u001b[38;5;241;43m.\u001b[39;49m\u001b[43merror_handler\u001b[49m\u001b[38;5;241;43m.\u001b[39;49m\u001b[43mcheck_response\u001b[49m\u001b[43m(\u001b[49m\u001b[43mresponse\u001b[49m\u001b[43m)\u001b[49m\n\u001b[1;32m    348\u001b[0m     response[\u001b[38;5;124m\"\u001b[39m\u001b[38;5;124mvalue\u001b[39m\u001b[38;5;124m\"\u001b[39m] \u001b[38;5;241m=\u001b[39m \u001b[38;5;28mself\u001b[39m\u001b[38;5;241m.\u001b[39m_unwrap_value(response\u001b[38;5;241m.\u001b[39mget(\u001b[38;5;124m\"\u001b[39m\u001b[38;5;124mvalue\u001b[39m\u001b[38;5;124m\"\u001b[39m, \u001b[38;5;28;01mNone\u001b[39;00m))\n\u001b[1;32m    349\u001b[0m     \u001b[38;5;28;01mreturn\u001b[39;00m response\n",
      "File \u001b[0;32m~/Desktop/streamlit-mulcamp/venv/lib/python3.11/site-packages/selenium/webdriver/remote/errorhandler.py:229\u001b[0m, in \u001b[0;36mErrorHandler.check_response\u001b[0;34m(self, response)\u001b[0m\n\u001b[1;32m    227\u001b[0m         alert_text \u001b[38;5;241m=\u001b[39m value[\u001b[38;5;124m\"\u001b[39m\u001b[38;5;124malert\u001b[39m\u001b[38;5;124m\"\u001b[39m]\u001b[38;5;241m.\u001b[39mget(\u001b[38;5;124m\"\u001b[39m\u001b[38;5;124mtext\u001b[39m\u001b[38;5;124m\"\u001b[39m)\n\u001b[1;32m    228\u001b[0m     \u001b[38;5;28;01mraise\u001b[39;00m exception_class(message, screen, stacktrace, alert_text)  \u001b[38;5;66;03m# type: ignore[call-arg]  # mypy is not smart enough here\u001b[39;00m\n\u001b[0;32m--> 229\u001b[0m \u001b[38;5;28;01mraise\u001b[39;00m exception_class(message, screen, stacktrace)\n",
      "\u001b[0;31mInvalidSelectorException\u001b[0m: Message: invalid selector: An invalid or illegal selector was specified\n  (Session info: chrome=120.0.6099.129); For documentation on this error, please visit: https://www.selenium.dev/documentation/webdriver/troubleshooting/errors#invalid-selector-exception\nStacktrace:\n0   chromedriver                        0x00000001027fc4dc chromedriver + 4162780\n1   chromedriver                        0x00000001027f4664 chromedriver + 4130404\n2   chromedriver                        0x000000010244bbc0 chromedriver + 293824\n3   chromedriver                        0x0000000102451234 chromedriver + 315956\n4   chromedriver                        0x000000010245313c chromedriver + 323900\n5   chromedriver                        0x0000000102453278 chromedriver + 324216\n6   chromedriver                        0x0000000102492198 chromedriver + 582040\n7   chromedriver                        0x00000001024d1ab0 chromedriver + 842416\n8   chromedriver                        0x00000001024856bc chromedriver + 530108\n9   chromedriver                        0x0000000102486930 chromedriver + 534832\n10  chromedriver                        0x00000001027c1e08 chromedriver + 3923464\n11  chromedriver                        0x00000001027c63dc chromedriver + 3941340\n12  chromedriver                        0x00000001027aa038 chromedriver + 3825720\n13  chromedriver                        0x00000001027c6f3c chromedriver + 3944252\n14  chromedriver                        0x000000010279c6f4 chromedriver + 3770100\n15  chromedriver                        0x00000001027e3980 chromedriver + 4061568\n16  chromedriver                        0x00000001027e3af8 chromedriver + 4061944\n17  chromedriver                        0x00000001027f42e4 chromedriver + 4129508\n18  libsystem_pthread.dylib             0x0000000187cc6034 _pthread_start + 136\n19  libsystem_pthread.dylib             0x0000000187cc0e3c thread_start + 8\n"
     ]
    }
   ],
   "source": [
    "CSS_PATH = '##goodsRankList > li:nth-child(1) > div.li_inner > div.article_info > a'\n",
    "#goodsRankList > li:nth-child(1) > div.li_inner > div.article_info > p.list_info > a\n",
    "#goodsRankList > li:nth-child(1) > div.li_inner > div.article_info > p.list_info > a\n",
    "#goodsRankList > li:nth-child(1) > div.li_inner > div.article_info > a\n",
    "\n",
    "shop_results = driver.find_elements(By.CSS_SELECTOR, CSS_PATH)\n",
    "shop_list=[]\n",
    "print(shop_results)\n",
    "# for shop_result in shop_results:\n",
    "#     print(shop_list)"
   ]
  },
  {
   "cell_type": "code",
   "execution_count": null,
   "id": "c43b8c38-c414-41e6-8f48-13238ba9f07f",
   "metadata": {},
   "outputs": [],
   "source": [
    "#goodsRankList > li:nth-child(2) > div.li_inner > div.article_info > p.list_info > a"
   ]
  },
  {
   "cell_type": "code",
   "execution_count": 92,
   "id": "0dc02c8d-6b15-49a0-84b5-c63b9bba59e5",
   "metadata": {},
   "outputs": [],
   "source": [
    "import selenium\n",
    "from selenium import webdriver as wd\n",
    "import time\n",
    "import pandas as pd\n",
    "from bs4 import BeautifulSoup\n",
    "import requests\n",
    "\n",
    "from itertools import repeat\n",
    "import re"
   ]
  },
  {
   "cell_type": "code",
   "execution_count": 77,
   "id": "9b6f275d-ba44-42dc-a925-2078dc34633b",
   "metadata": {},
   "outputs": [
    {
     "name": "stdout",
     "output_type": "stream",
     "text": [
      "                                             상품명\n",
      "0       87-STAN009 [비건 스웨이드] 스탠다드 블루종 스웨이드 자켓 카키\n",
      "1              젤-1130 - 화이트:샤크 스킨 / 1201A256-116\n",
      "2               NICOLE SQUARE SHOULDER BAG_BLACK\n",
      "3    [2PACK]Mid Rise Wide Jeans DCPT027 22Colors\n",
      "4                          아딜렛 22 - 베이지 / GX6945\n",
      "..                                           ...\n",
      "885                                 데일리트랜짓 BLACK\n",
      "886                         데일리 라운드 니트 - 8 COLOR\n",
      "887           Signature relax wide pants - BLACK\n",
      "888                                   스웨트셔츠 [블랙]\n",
      "889         1967 JET BLACK JEANS [WIDE STRAIGHT]\n",
      "\n",
      "[890 rows x 1 columns]\n"
     ]
    }
   ],
   "source": [
    "URL = 'https://www.musinsa.com/ranking/best?period=now&age=ALL&mainCategory=&subCategory=&leafCategory=&price=&golf=false&kids=false&newProduct=false&exclusive=false&discount=false&soldOut=false&page=1&viewType=small&priceMin=&priceMax='\n",
    "\n",
    "response = requests.get(URL)\n",
    "soup=BeautifulSoup(response.text,\"lxml\")\n",
    "\n",
    "data=None\n",
    "df_list=[]\n",
    "for n in range(1,11):\n",
    "    URL=f'https://www.musinsa.com/ranking/best?period=now&age=ALL&mainCategory=&subCategory=&leafCategory=&price=&golf=false&kids=false&newProduct=false&exclusive=false&discount=false&soldOut=false&page={n}&viewType=small&priceMin=&priceMax='\n",
    "    for i in range(1,90):\n",
    "        p=soup.find_all('p', class_='list_info')[i].find_all('a')[0]['title']\n",
    "        df_list.append(p)\n",
    "        df=pd.DataFrame({'상품명':df_list})\n",
    "        # pd.concat([data, df], ignore_index=True)\n",
    "\n",
    "print(df)\n",
    "\n",
    "\n",
    "\n",
    "# soup.find_all('strong', class_='txt_reserve')"
   ]
  },
  {
   "cell_type": "code",
   "execution_count": null,
   "id": "d80e5c3a-498c-49fb-801a-d92300ef772a",
   "metadata": {},
   "outputs": [],
   "source": [
    "#goodsRankList > li:nth-child(1) > div.li_inner > div.article_info > p.list_info > a"
   ]
  },
  {
   "cell_type": "code",
   "execution_count": null,
   "id": "536120d6-55be-4eab-978f-29c9de6fa845",
   "metadata": {},
   "outputs": [],
   "source": [
    "import time\n",
    "from selenium import webdriver\n",
    "from selenium.webdriver.chrome.service import Service\n",
    "from selenium.webdriver.common.by import By\n",
    "from webdriver_manager.chrome import ChromeDriverManager\n",
    "\n",
    "CHROME_DRIVER_PATH = './drivers/chromedriver.exe'\n",
    "service = Service(executable_path=CHROME_DRIVER_PATH)\n",
    "options = webdriver.ChromeOptions()\n",
    "driver = webdriver.Chrome(service= Service(ChromeDriverManager().install()))\n",
    "URL = 'https://shop.29cm.co.kr/best-items?category_large_code=272100100'\n",
    "driver.get(URL)"
   ]
  },
  {
   "cell_type": "code",
   "execution_count": 1,
   "id": "c58f6fe1-c9db-437e-93bc-2fcc355b79f3",
   "metadata": {},
   "outputs": [
    {
     "ename": "NameError",
     "evalue": "name 'driver' is not defined",
     "output_type": "error",
     "traceback": [
      "\u001b[0;31m---------------------------------------------------------------------------\u001b[0m",
      "\u001b[0;31mNameError\u001b[0m                                 Traceback (most recent call last)",
      "Cell \u001b[0;32mIn[1], line 6\u001b[0m\n\u001b[1;32m      1\u001b[0m CSS_PATH\u001b[38;5;241m=\u001b[39m \u001b[38;5;124m'\u001b[39m\u001b[38;5;124m#__next > div.css-1k28ov0.e5a9ewn0 > div.css-1rr4qq7.e5a9ewn2 > ul > li > div > div > a.css-5cm1aq.ed279eq1 > div > h5\u001b[39m\u001b[38;5;124m'\u001b[39m\n\u001b[1;32m      2\u001b[0m \u001b[38;5;66;03m#__next > div.css-1k28ov0.e5a9ewn0 > div.css-1rr4qq7.e5a9ewn2 > ul > li:nth-child(1) > div > div > a.css-5cm1aq.ed279eq1 > div > h5\u001b[39;00m\n\u001b[1;32m      3\u001b[0m \u001b[38;5;66;03m#__next > div.css-1k28ov0.e5a9ewn0 > div.css-1rr4qq7.e5a9ewn2 > ul > li:nth-child(2) > div > div > a.css-5cm1aq.ed279eq1 > div > h5\u001b[39;00m\n\u001b[1;32m      4\u001b[0m \u001b[38;5;66;03m#__next > div.css-1k28ov0.e5a9ewn0 > div.css-1rr4qq7.e5a9ewn2 > ul > li:nth-child(3) > div > div > a.css-5cm1aq.ed279eq1 > div > h5\u001b[39;00m\n\u001b[0;32m----> 6\u001b[0m shop_results\u001b[38;5;241m=\u001b[39m\u001b[43mdriver\u001b[49m\u001b[38;5;241m.\u001b[39mfind_elements(By\u001b[38;5;241m.\u001b[39mCSS_SELECTOR, CSS_PATH)\n\u001b[1;32m      7\u001b[0m s_list\u001b[38;5;241m=\u001b[39m[]\n\u001b[1;32m      8\u001b[0m \u001b[38;5;28;01mfor\u001b[39;00m shop_result \u001b[38;5;129;01min\u001b[39;00m shop_results:\n",
      "\u001b[0;31mNameError\u001b[0m: name 'driver' is not defined"
     ]
    }
   ],
   "source": [
    "CSS_PATH= '#__next > div.css-1k28ov0.e5a9ewn0 > div.css-1rr4qq7.e5a9ewn2 > ul > li > div > div > a.css-5cm1aq.ed279eq1 > div > h5'\n",
    "#__next > div.css-1k28ov0.e5a9ewn0 > div.css-1rr4qq7.e5a9ewn2 > ul > li:nth-child(1) > div > div > a.css-5cm1aq.ed279eq1 > div > h5\n",
    "#__next > div.css-1k28ov0.e5a9ewn0 > div.css-1rr4qq7.e5a9ewn2 > ul > li:nth-child(2) > div > div > a.css-5cm1aq.ed279eq1 > div > h5\n",
    "#__next > div.css-1k28ov0.e5a9ewn0 > div.css-1rr4qq7.e5a9ewn2 > ul > li:nth-child(3) > div > div > a.css-5cm1aq.ed279eq1 > div > h5\n",
    "\n",
    "shop_results=driver.find_elements(By.CSS_SELECTOR, CSS_PATH)\n",
    "s_list=[]\n",
    "for shop_result in shop_results:\n",
    "    s_list.append(shop_result)\n",
    "    \n",
    "df=pd.DataFrame({'랭킹' : s_list})\n",
    "df\n",
    "#print(shop_results.text)\n"
   ]
  },
  {
   "cell_type": "code",
   "execution_count": null,
   "id": "b42b4275-b92d-40b4-ab41-3773b603e08f",
   "metadata": {},
   "outputs": [],
   "source": [
    "#goodsRankList > li:nth-child(1) > div.li_inner > div.article_info > p.list_info > a\n",
    "#goodsRankList > li:nth-child(2) > div.li_inner > div.article_info > p.list_info > a"
   ]
  }
 ],
 "metadata": {
  "kernelspec": {
   "display_name": "Python 3 (ipykernel)",
   "language": "python",
   "name": "python3"
  },
  "language_info": {
   "codemirror_mode": {
    "name": "ipython",
    "version": 3
   },
   "file_extension": ".py",
   "mimetype": "text/x-python",
   "name": "python",
   "nbconvert_exporter": "python",
   "pygments_lexer": "ipython3",
   "version": "3.11.7"
  }
 },
 "nbformat": 4,
 "nbformat_minor": 5
}
