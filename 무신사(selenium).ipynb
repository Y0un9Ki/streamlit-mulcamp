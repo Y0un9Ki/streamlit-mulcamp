{
 "cells": [
  {
   "cell_type": "markdown",
   "id": "e993674e-0ed0-4398-a41b-9cdc43fb4082",
   "metadata": {},
   "source": [
    "# selenium으로 크롤링 하기(무신사스토어 순위)\n",
    "- 드라이버들을 가지고 오자"
   ]
  },
  {
   "cell_type": "code",
   "execution_count": 1,
   "id": "c3d4a45c-56b7-4bc0-9b06-0cdf6a2a361d",
   "metadata": {},
   "outputs": [
    {
     "name": "stdout",
     "output_type": "stream",
     "text": [
      "4.17.2\n"
     ]
    }
   ],
   "source": [
    "import selenium\n",
    "\n",
    "print(selenium.__version__)"
   ]
  },
  {
   "cell_type": "code",
   "execution_count": 16,
   "id": "e1418f89-2ad1-4c97-aa09-a381693916c5",
   "metadata": {},
   "outputs": [],
   "source": [
    "import pandas as pd"
   ]
  },
  {
   "cell_type": "code",
   "execution_count": 35,
   "id": "c2e2255a-6dd3-4991-8e8b-2e4f4e542eb6",
   "metadata": {},
   "outputs": [
    {
     "name": "stdout",
     "output_type": "stream",
     "text": [
      "4.17.2\n"
     ]
    }
   ],
   "source": [
    "import selenium\n",
    "print(selenium.__version__)\n",
    "\n",
    "from selenium import webdriver\n",
    "from webdriver_manager.chrome import ChromeDriverManager\n",
    "from selenium.webdriver.chrome.service import Service\n",
    "from selenium.webdriver.common.by import By\n"
   ]
  },
  {
   "cell_type": "code",
   "execution_count": 42,
   "id": "28d592d5-91c6-4daa-9c06-6a8771c46edc",
   "metadata": {},
   "outputs": [],
   "source": [
    "service = Service(executable_path=ChromeDriverManager().install())\n",
    "driver = webdriver.Chrome(service=service)\n",
    "url='https://www.musinsa.com/ranking/best?u_cat_cd='\n",
    "driver.get(url)"
   ]
  },
  {
   "cell_type": "code",
   "execution_count": 49,
   "id": "0b77d9bd-17f0-49fc-a062-64d26adc1b67",
   "metadata": {},
   "outputs": [
    {
     "name": "stdout",
     "output_type": "stream",
     "text": [
      "           순위                                           상품\n",
      "0      1위 ▲ 2             NICOLE SQUARE SHOULDER BAG_BLACK\n",
      "1      2위 ▼ 1     87-STAN009 [비건 스웨이드] 스탠다드 블루종 스웨이드 자켓 카키\n",
      "2      3위 ▼ 1                    (기모옵션추가) 이지 와이드 데님 팬츠 그레이\n",
      "3        4위 -  [2PACK]Mid Rise Wide Jeans DCPT027 22Colors\n",
      "4     5위 ▲ 20             ORIGINAL WINTER SLIPPER - 7color\n",
      "..        ...                                          ...\n",
      "85    86위 ▼ 2                         트레이닝 핀턱 배색 와이드 팬츠 블랙\n",
      "86  87위 ▲ 999                    캐시미어 블렌드 오버사이즈 싱글 코트 [블랙]\n",
      "87   88위 ▲ 22                           와이드 데님 팬츠 [미디엄 블루]\n",
      "88   89위 ▲ 15                     가젤 볼드 W - 원더 쿼츠 / IE0429\n",
      "89   90위 ▼ 16              Cheesy Bunny 레글런 피그먼트 맨투맨 더스티핑크\n",
      "\n",
      "[90 rows x 2 columns]\n"
     ]
    }
   ],
   "source": [
    "# CSS_PATH1='#goodsRankList > li:nth-child(1) > div.li_inner > div.article_info > p.list_info > a'\n",
    "# CSS_PATH2='#goodsRankList > li:nth-child(2) > div.li_inner > div.article_info > p.list_info > a'\n",
    "# 여기서 태그의 path를 보면 루틴이 있는걸 확인한다. 여기서 li:nth-child(n) n이 1부터 쭉 이어져 나가는데 li라는 태그를 구분해주기 위해서 li태그 뒤에 :nth-child(n)붙어있게 된다. 즉 상품의 순위를 1위부터 구분하기 위해서 li태그에 구분 을 :nth-child()로 준것이다. 그렇기에 모든 랭크를 가져오기 위해서는 우리는 그 구분을 없애주어야 한다. 즉 li만 가지고 오면 모든 순위의 상품이름을 가지고 올 수 있는것이다.\n",
    "#CSS_PATH(product)= '#goodsRankList > li > div.li_inner > div.article_info > p.list_info > a'\n",
    "#CSS_PATH(r1)='#goodsRankList > li:nth-child(1) > p'\n",
    "#CSS_PATH(r2) = '#goodsRankList > li:nth-child(2) > p'\n",
    "\n",
    "#CSS_PATH(rank) = '#goodsRankList > li > p'\n",
    "\n",
    "rank_results = driver.find_elements(By.CSS_SELECTOR, '#goodsRankList > li > p') # ==> 리스트안에 str로 모든 랭크가 다 들어감\n",
    "product_results = driver.find_elements(By.CSS_SELECTOR, '#goodsRankList > li > div.li_inner > div.article_info > p.list_info > a ') #==> 리스트 안에 str로 모든 product가 들어가있음\n",
    "\n",
    "\n",
    "rank_list=[]\n",
    "product_list=[]\n",
    "\n",
    "for rank_result, product_result in zip(rank_results, product_results):\n",
    "    rank_list.append(rank_result.text)\n",
    "    product_list.append(product_result.get_attribute('title'))\n",
    "\n",
    "\n",
    "    \n",
    "df=pd.DataFrame({\"순위\" : rank_list, \"상품\" : product_list})\n",
    "print(df)\n",
    "\n"
   ]
  },
  {
   "cell_type": "code",
   "execution_count": null,
   "id": "89b1894b-4da6-4453-acae-1b626893dd3e",
   "metadata": {},
   "outputs": [],
   "source": []
  },
  {
   "cell_type": "code",
   "execution_count": null,
   "id": "aa5f0495-87da-458d-b373-aef3691f5817",
   "metadata": {},
   "outputs": [],
   "source": []
  },
  {
   "cell_type": "code",
   "execution_count": null,
   "id": "3ced81fc-8e7b-4598-9d94-24d015d2ecd2",
   "metadata": {},
   "outputs": [],
   "source": []
  },
  {
   "cell_type": "code",
   "execution_count": null,
   "id": "b4431e53-63f9-424d-afb3-c35f9180751b",
   "metadata": {},
   "outputs": [],
   "source": []
  }
 ],
 "metadata": {
  "kernelspec": {
   "display_name": "Python 3 (ipykernel)",
   "language": "python",
   "name": "python3"
  },
  "language_info": {
   "codemirror_mode": {
    "name": "ipython",
    "version": 3
   },
   "file_extension": ".py",
   "mimetype": "text/x-python",
   "name": "python",
   "nbconvert_exporter": "python",
   "pygments_lexer": "ipython3",
   "version": "3.11.7"
  }
 },
 "nbformat": 4,
 "nbformat_minor": 5
}
