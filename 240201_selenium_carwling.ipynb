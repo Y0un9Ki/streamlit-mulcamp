{
 "cells": [
  {
   "cell_type": "code",
   "execution_count": 1,
   "id": "e5e1c6f9-fd9a-460f-b7f0-d4977c7e9177",
   "metadata": {},
   "outputs": [
    {
     "name": "stdout",
     "output_type": "stream",
     "text": [
      "4.17.2\n"
     ]
    }
   ],
   "source": [
    "import selenium\n",
    "\n",
    "print(selenium.__version__)"
   ]
  },
  {
   "cell_type": "markdown",
   "id": "950f804d-bce3-4c13-9fd5-3cf9a4538645",
   "metadata": {},
   "source": [
    "# 크롬 드라이버 세팅"
   ]
  },
  {
   "cell_type": "code",
   "execution_count": 17,
   "id": "7b772ed2-8597-4c31-ba19-5d81be78252a",
   "metadata": {},
   "outputs": [],
   "source": [
    "from selenium import webdriver\n",
    "from selenium.webdriver.common.by import By\n",
    "from selenium.webdriver.chrome.service import Service\n",
    "from webdriver_manager.chrome import ChromeDriverManager\n",
    "import time\n",
    "\n",
    "driver = webdriver.Chrome(service= Service(ChromeDriverManager().install()))\n",
    "url = 'https://signal.bz/news'\n",
    "driver.get(url)\n",
    "\n",
    "\n",
    "driver.get(url)\n",
    "time.sleep(5)"
   ]
  },
  {
   "cell_type": "code",
   "execution_count": null,
   "id": "51b844c3-051e-465c-a4c0-d1d107e033fa",
   "metadata": {},
   "outputs": [],
   "source": [
    "CSS_PATH1 = '#app > div > main > div > section > div > section > section:nth-child(2) > div:nth-child(2) > div > div:nth-child(1) > div:nth-child(1) > a > span.rank-text'\n",
    "# 인터넷 구조를 보기 밑에 CSS_PATH2와 다른 곳을 보고 나눠지는 구역을 개발자 환경에서 찾아보기\n",
    "CSS_PATH2 = '#app > div > main > div > section > div > section > section:nth-child(2) > div:nth-child(2) > div > div:nth-child(2) > div:nth-child(1) > a > span.rank-text'\n",
    "\n",
    "CSS_PATH = \"#app > div > main > div > section > div > section > section:nth-child(2) > div:nth-child(2) > div > div > div > a > span.rank-text\"\n",
    "# CSS_PATH1과 CSS_PATH2와 나눠지는 태그가 다른데 (<div>가 다른데) 그걸 하나로 합쳐서 CSS_PATH로 만들어줬다 밑에 코드의 결과를 보자!!!"
   ]
  },
  {
   "cell_type": "code",
   "execution_count": 18,
   "id": "109023a9-5b44-465b-92d0-e7ae67a14de4",
   "metadata": {},
   "outputs": [
    {
     "name": "stdout",
     "output_type": "stream",
     "text": [
      "문경 공장 안전진단\n",
      "김성수 카카오엔터 대표\n",
      "주호민 아동학대 특수교사\n",
      "한강 리버버스\n",
      "신유빈 김운용 여성체육\n",
      "김지니 이나무\n",
      "바이든 트럼프\n",
      "성범죄 힘찬\n",
      "몰라보겠어 능청 돌연\n",
      "이언주 민주당\n",
      "\n",
      "['문경 공장 안전진단', '김성수 카카오엔터 대표', '주호민 아동학대 특수교사', '한강 리버버스', '신유빈 김운용 여성체육', '김지니 이나무', '바이든 트럼프', '성범죄 힘찬', '몰라보겠어 능청 돌연', '이언주 민주당']\n"
     ]
    }
   ],
   "source": [
    "CSS_PATH = \"#app > div > main > div > section > div > section > section:nth-child(2) > div:nth-child(2) > div > div > div > a > span.rank-text\"\n",
    "\n",
    "naver_results = driver.find_elements(By.CSS_SELECTOR, CSS_PATH)\n",
    "naver_list = []\n",
    "for naver_result in naver_results:\n",
    "    print(naver_result.text)\n",
    "    naver_list.append(naver_result.text)\n",
    "print(\"\")\n",
    "print(naver_list)"
   ]
  },
  {
   "cell_type": "code",
   "execution_count": null,
   "id": "56e9696e-aecc-427c-b56b-258554b3b4be",
   "metadata": {},
   "outputs": [],
   "source": [
    "# find_all('태그명') ==> bs4(BeautifulSoup)를 사용하는방식\n",
    "# driver.find_elements(By.CSS_SELECTOR, CSS_PATH)\n",
    "\n",
    "CSS_PATH = '#app > div > main > div > section > div > section > section:nth-child(2) > div:nth-child(2) > div > div:nth-child(1) > div:nth-child(1) > a > span.rank-text'\n",
    "CSS_PATH = '#app > div > main > div > section > div > section > section:nth-child(2) > div:nth-child(2) > div > div:nth-child(1) > div:nth-child(2) > a > span.rank-text'"
   ]
  },
  {
   "cell_type": "code",
   "execution_count": 16,
   "id": "d2f7bcb4-b6a1-410f-a9f2-b8ec4b6b1223",
   "metadata": {},
   "outputs": [],
   "source": [
    "driver.quit() # ==> 셀레니움 드라이버를 나가는 코드"
   ]
  },
  {
   "cell_type": "code",
   "execution_count": null,
   "id": "57a965cf-fb5b-425e-a365-44a9f9578cf6",
   "metadata": {},
   "outputs": [],
   "source": []
  },
  {
   "cell_type": "code",
   "execution_count": null,
   "id": "341992ed-948a-43b6-aaa8-614f322b3e83",
   "metadata": {},
   "outputs": [],
   "source": [
    "#olLiveIssueKeyword > li:nth-child(1) > a > span.txt_rank 1위 키워드\n",
    "#olLiveIssueKeyword > li:nth-child(1) > a > span.txt_rank 6위 키워드\n",
    "바뀌는 게 없다???\n",
    "#olLiveIssueKeyword > li:nth-child(1) > span"
   ]
  },
  {
   "cell_type": "code",
   "execution_count": null,
   "id": "5806f2af-35eb-461d-be75-d9dbd708b902",
   "metadata": {},
   "outputs": [],
   "source": [
    "li > a > span.txt_rank"
   ]
  },
  {
   "cell_type": "code",
   "execution_count": 19,
   "id": "4e4c0bb1-ac03-45c2-81fa-f110def02a97",
   "metadata": {},
   "outputs": [],
   "source": [
    "from selenium import webdriver\n",
    "from selenium.webdriver.common.by import By\n",
    "from selenium.webdriver.chrome.service import Service\n",
    "from webdriver_manager.chrome import ChromeDriverManager\n",
    "import time\n",
    "\n",
    "driver = webdriver.Chrome(service= Service(ChromeDriverManager().install()))\n",
    "url = 'https://www.nate.com/?f=autorefresh'\n",
    "driver.get(url)\n",
    "\n",
    "\n",
    "driver.get(url)\n",
    "time.sleep(5)"
   ]
  },
  {
   "cell_type": "code",
   "execution_count": null,
   "id": "88b82246-2f44-4287-a08a-d03b22c19a73",
   "metadata": {},
   "outputs": [],
   "source": [
    "CSS_PATH = '#olLiveIssueKeyword > li:nth-child(1) > a > span.txt_rank' # 1위 키보드\n",
    "CSS_PATH = '#olLiveIssueKeyword > li:nth-child(1) > a > span.txt_rank' # 6위 키보드"
   ]
  },
  {
   "cell_type": "code",
   "execution_count": 45,
   "id": "3aa1efe0-491b-412b-9cbd-558270cd260a",
   "metadata": {},
   "outputs": [
    {
     "name": "stdout",
     "output_type": "stream",
     "text": [
      "['6_제22대 모의개표', '7_카카오엔터 파워 선정', '8_주호민 특수교사 유죄', '9_이태원참사 특별법 거부', '10_전청조 남현희 사랑해', '1_문경 화재 비대위원장', '2_흉기난동 최원종에 무기징역', '3_중대재해처벌법 유예 반대', '4_김지니 이나무', '5_김성수 카카오엔터 대표']\n"
     ]
    }
   ],
   "source": [
    "import time\n",
    "from selenium import webdriver\n",
    "from selenium.webdriver.chrome.service import Service\n",
    "from selenium.webdriver.common.by import By\n",
    "\n",
    "CHROME_DRIVER_PATH = './drivers/chromedriver.exe'\n",
    "service = Service(executable_path=CHROME_DRIVER_PATH)\n",
    "options = webdriver.ChromeOptions()\n",
    "driver = webdriver.Chrome(service= Service(ChromeDriverManager().install()))\n",
    "\n",
    "nate_list_1st = []\n",
    "nate_list_2nd = []\n",
    "for i in range(2):\n",
    "    URL='https://www.nate.com'\n",
    "    driver.get(url=URL) \n",
    "    rank_results = driver.find_elements(By.CSS_SELECTOR,'#olLiveIssueKeyword > li > span.num_rank')\n",
    "    nate_results = driver.find_elements(By.CSS_SELECTOR,'#olLiveIssueKeyword > li > a > span.txt_rank')\n",
    "    for rank, keyword in zip(rank_results, nate_results):\n",
    "        if i == 0:\n",
    "            nate_list_1st.append(f'{rank.text}_{keyword.text}')\n",
    "        elif i == 1:\n",
    "            nate_list_2nd.append(f'{rank.text}_{keyword.text}')\n",
    "    time.sleep(5)\n",
    "    driver.refresh()\n",
    "result = nate_list_1st + nate_list_2nd\n",
    "\n",
    "print(result)\n",
    "driver.quit()\n",
    "\n",
    "# 영기야 크롤링 잘하려면 이정도는 하자!!!! 이정도는 공부해보자!! 오늘 꼭 !!!!"
   ]
  },
  {
   "cell_type": "code",
   "execution_count": 42,
   "id": "9f162af3-67a0-4b83-9443-4cb154f9d2a9",
   "metadata": {},
   "outputs": [
    {
     "name": "stdout",
     "output_type": "stream",
     "text": [
      "문경 화재 비대위원장\n",
      "흉기난동 최원종에 무기징역\n",
      "중대재해처벌법 유예 반대\n",
      "김지니 이나무\n",
      "김성수 카카오엔터 대표\n",
      "\n",
      "['문경 화재 비대위원장', '흉기난동 최원종에 무기징역', '중대재해처벌법 유예 반대', '김지니 이나무', '김성수 카카오엔터 대표']\n"
     ]
    }
   ],
   "source": [
    "CSS_PATH = '#olLiveIssueKeyword > li > a > span.txt_rank'\n",
    "\n",
    "nate_results = driver.find_elements(By.CSS_SELECTOR, CSS_PATH)\n",
    "nate_list = []\n",
    "for nate_result in nate_results:\n",
    "    print(nate_result.text)\n",
    "    nate_list.append(nate_result.text)\n",
    "print(\"\")\n",
    "print(nate_list)"
   ]
  },
  {
   "cell_type": "code",
   "execution_count": 66,
   "id": "7be26bd5-7194-440e-981e-699516283362",
   "metadata": {},
   "outputs": [],
   "source": [
    "from selenium import webdriver\n",
    "from selenium.webdriver.common.by import By\n",
    "from selenium.webdriver.chrome.service import Service\n",
    "from webdriver_manager.chrome import ChromeDriverManager\n",
    "import time\n",
    "\n",
    "driver = webdriver.Chrome(service= Service(ChromeDriverManager().install()))\n",
    "url = 'https://www.ppomppu.co.kr/zboard/zboard.php?id=ppomppu&page=1&divpage=85'\n",
    "driver.get(url)\n"
   ]
  },
  {
   "cell_type": "code",
   "execution_count": 109,
   "id": "6ebdd4b9-f9b0-4d22-ba53-5c75d7e18ac5",
   "metadata": {},
   "outputs": [],
   "source": [
    "CSS_PATH = '#revolution_main_table > tbody > tr:nth-child(9) > td:nth-child(3) > table > tbody > tr > td:nth-child(2) > div > a > font'\n",
    "#revolution_main_table > tbody > tr:nth-child(9) > td:nth-child(3) > table > tbody > tr > td:nth-child(2) > div > a > font > span\n",
    "#revolution_main_table > tbody > tr:nth-child(11) > td:nth-child(3) > table > tbody > tr > td:nth-child(2) > div > a > font\n",
    "#revolution_main_table > tbody > tr:nth-child(13) > td:nth-child(3) > table > tbody > tr > td:nth-child(2) > div > a > font\n",
    "\n",
    "hotdeal_results = driver.find_elements(By.CSS_SELECTOR, CSS_PATH)\n",
    "hotdeal_list=[]\n",
    "n=11\n",
    "for list in range(1,n):\n",
    "    url = f'https://www.ppomppu.co.kr/zboard/zboard.php?id=ppomppu&page={list}&divpage=85'\n",
    "    for i in hotdeal_results:\n",
    "        hotdeal_list.append(i.text)\n",
    "        #print(hotdeal_list)\n",
    "        # time.sleep(5)\n",
    "    "
   ]
  },
  {
   "cell_type": "code",
   "execution_count": null,
   "id": "7bac85e9-a607-4c11-a746-68708156c8b1",
   "metadata": {},
   "outputs": [],
   "source": [
    "#revolution_main_table > tbody\n",
    "#revolution_main_table > tbody > tr.title_bg > td:nth-child(5)"
   ]
  },
  {
   "cell_type": "code",
   "execution_count": null,
   "id": "3ce38450-645c-441c-9e31-644d69dd7e5e",
   "metadata": {},
   "outputs": [],
   "source": [
    "from selenium import webdriver\n",
    "from selenium.webdriver.chrome.service import Service\n",
    "from selenium.webdriver.common.by import By\n",
    "import pandas as pd\n",
    "import time\n",
    "import random\n",
    "\n",
    "def page1_crawling(driver):\n",
    "    titles = []\n",
    "    urls = []\n",
    "    start_num = 9\n",
    "    end_num = 47\n",
    "    for i in range(start_num, end_num + 1, 2):\n",
    "        title_css_path = '#revolution_main_table > tbody > tr:nth-child(' + str(i) + ') > td:nth-child(3) > table > tbody > tr > td:nth-child(2) > div > a > font'\n",
    "        titles.append(driver.find_element(By.CSS_SELECTOR, title_css_path).text)\n",
    "        \n",
    "        url_css_path = '#revolution_main_table > tbody > tr:nth-child(' + str(i) + ') > td:nth-child(3) > table > tbody > tr > td:nth-child(2) > div > a'\n",
    "        urls.append(driver.find_element(By.CSS_SELECTOR, url_css_path).get_attribute('href'))\n",
    "\n",
    "    return pd.DataFrame({\"title\": titles, \"urls\": urls})\n",
    "\n",
    "def other_crawling(driver):\n",
    "    titles = []\n",
    "    urls = []\n",
    "    start_num = 6\n",
    "    end_num = 44\n",
    "    #revolution_main_table > tbody > tr:nth-child(6) > td:nth-child(3) > table > tbody > tr > td:nth-child(2) > div > a > font\n",
    "    #revolution_main_table > tbody > tr:nth-child(8) > td:nth-child(3) > table > tbody > tr > td:nth-child(2) > div > a > font\n",
    "    #revolution_main_table > tbody > tr:nth-child(44) > td:nth-child(3) > table > tbody > tr > td:nth-child(2) > div > a > font\n",
    "    for i in range(start_num, end_num + 1, 2):\n",
    "        title_css_path = '#revolution_main_table > tbody > tr:nth-child(' + str(i) + ') > td:nth-child(3) > table > tbody > tr > td:nth-child(2) > div > a > font'\n",
    "        titles.append(driver.find_element(By.CSS_SELECTOR, title_css_path).text)\n",
    "        \n",
    "        url_css_path = '#revolution_main_table > tbody > tr:nth-child(' + str(i) + ') > td:nth-child(3) > table > tbody > tr > td:nth-child(2) > div > a'\n",
    "        urls.append(driver.find_element(By.CSS_SELECTOR, url_css_path).get_attribute('href'))\n",
    "\n",
    "    return pd.DataFrame({\"title\": titles, \"urls\": urls})\n",
    "\n",
    "def main():\n",
    "    CHROME_DRIVER_PATH = './drivers/chromedriver.exe'\n",
    "    service = Service(executable_path=CHROME_DRIVER_PATH)\n",
    "    options = webdriver.ChromeOptions()\n",
    "    driver = webdriver.Chrome(service= Service(ChromeDriverManager().install()))\n",
    "\n",
    "    URL = 'https://www.ppomppu.co.kr/zboard/zboard.php?id=ppomppu&page=1&divpage=85'\n",
    "    driver.get(url=URL)\n",
    "    df = page1_crawling(driver)\n",
    "    for i in range(2, 10):\n",
    "        URL = 'https://www.ppomppu.co.kr/zboard/zboard.php?id=ppomppu&page='+ str(i) + '&divpage=85'\n",
    "        print(URL)\n",
    "        driver.get(url=URL)\n",
    "        df = pd.concat([df, other_crawling(driver)], ignore_index=True)\n",
    "        time.sleep(random.uniform(2, 5))   # 2 ~ 5초 무작위로 설정\n",
    "        \n",
    "    df.to_csv(\"핫딜.csv\", index=False)\n",
    "    driver.quit()\n",
    "    \n",
    "if __name__ == \"__main__\":\n",
    "    main()\n"
   ]
  }
 ],
 "metadata": {
  "kernelspec": {
   "display_name": "Python 3 (ipykernel)",
   "language": "python",
   "name": "python3"
  },
  "language_info": {
   "codemirror_mode": {
    "name": "ipython",
    "version": 3
   },
   "file_extension": ".py",
   "mimetype": "text/x-python",
   "name": "python",
   "nbconvert_exporter": "python",
   "pygments_lexer": "ipython3",
   "version": "3.11.7"
  }
 },
 "nbformat": 4,
 "nbformat_minor": 5
}
